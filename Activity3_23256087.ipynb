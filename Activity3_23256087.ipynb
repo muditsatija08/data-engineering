{
  "cells": [
    {
      "cell_type": "markdown",
      "metadata": {
        "id": "view-in-github",
        "colab_type": "text"
      },
      "source": [
        "<a href=\"https://colab.research.google.com/github/muditsatija08/data-engineering/blob/main/Activity3_23256087.ipynb\" target=\"_parent\"><img src=\"https://colab.research.google.com/assets/colab-badge.svg\" alt=\"Open In Colab\"/></a>"
      ]
    },
    {
      "cell_type": "markdown",
      "metadata": {
        "deletable": false,
        "tags": [],
        "id": "ImssUEKYKhxM"
      },
      "source": [
        "### Student Details\n",
        "\n",
        "Student name:\n",
        "\n",
        "Student ID:"
      ]
    },
    {
      "cell_type": "code",
      "execution_count": null,
      "metadata": {
        "id": "DOl1JSLRKhxO"
      },
      "outputs": [],
      "source": [
        "# import dependencies\n",
        "import numpy as np\n",
        "import matplotlib.pyplot as plt"
      ]
    },
    {
      "cell_type": "markdown",
      "metadata": {
        "deletable": false,
        "editable": false,
        "tags": [],
        "id": "LubduSfRKhxP"
      },
      "source": [
        "# Task 1: Implement Logistic Regression"
      ]
    },
    {
      "cell_type": "markdown",
      "metadata": {
        "deletable": false,
        "editable": false,
        "tags": [],
        "id": "ovRH7pCzKhxP"
      },
      "source": [
        "### Adaline class\n",
        "From https://sebastianraschka.com/Articles/2015_singlelayer_neurons.html"
      ]
    },
    {
      "cell_type": "code",
      "execution_count": null,
      "metadata": {
        "deletable": false,
        "editable": false,
        "tags": [],
        "id": "1FwhY0FEKhxP"
      },
      "outputs": [],
      "source": [
        "class AdalineGD(object):\n",
        "    def __init__(self, eta=0.01, epochs=50):\n",
        "        self.eta = eta\n",
        "        self.epochs = epochs\n",
        "\n",
        "    def train(self, X, y):\n",
        "        self.w_ = np.zeros(1 + X.shape[1])\n",
        "        self.cost_ = []\n",
        "\n",
        "        for i in range(self.epochs):\n",
        "            output = self.net_input(X)\n",
        "            errors = (y - output)\n",
        "            self.w_[1:] += self.eta * X.T.dot(errors)\n",
        "            self.w_[0] += self.eta * errors.sum()\n",
        "            cost = (errors**2).sum() / 2.0\n",
        "            self.cost_.append(cost)\n",
        "        return self\n",
        "\n",
        "    def net_input(self, X):\n",
        "        return np.dot(X, self.w_[1:]) + self.w_[0]\n",
        "\n",
        "    def activation(self, X):\n",
        "        return self.net_input(X)\n",
        "\n",
        "    def predict(self, X):\n",
        "        return np.where(self.activation(X) >= 0.0, 1, -1)"
      ]
    },
    {
      "cell_type": "markdown",
      "metadata": {
        "deletable": false,
        "editable": false,
        "tags": [],
        "id": "KZiAeOJ2KhxQ"
      },
      "source": [
        "## Logistic regression\n",
        "Adapt the Adaline class to use logistic regression. Recall, the `activation` function for logistic regression is the sigmoid function:\n",
        "\n",
        "\\begin{equation}\n",
        "g\\left(z\\right) = \\text{logit}^{-1}(z) = \\frac{1}{1 + e^{-z}}\n",
        "\\end{equation}\n",
        "\n",
        "where\n",
        "\n",
        "\\begin{equation}\n",
        "z = \\textbf{w} \\cdot \\textbf{x} = w_0 + w_1x_1 + w_2x_2 + \\ldots + w_nx_n\n",
        "\\end{equation}\n",
        "\n",
        "$z$ is given by the function `net_input` in the class.  Note: In Andrew Ng's videos, recall, he uses $\\theta_i$ for the weights instead of $w_i$. And in some other videos, you may be see $\\alpha$ used instead of $z$. This type of notation is not standardised, and the lack of standardised notation is something you will need to get used to in general.\n",
        "\n",
        "The cost function is also updated to match the activation function:\n",
        "\n",
        "\\begin{equation}\n",
        "\\text{J}\\left(\\textbf{w}\\right) = -\\sum_i y^{(i)} \\log\\left(g(z^{(i)})\\right) +\n",
        "                                   \\left(1 - y^{(i)}\\right) \\log\\left(1 - g(z^{(i)}\\right))\n",
        "\\end{equation}\n",
        "\n",
        "where $g\\left(z\\right)$ is the `output` after the `net_input` and `activation` functions are called.\n",
        "\n",
        "Then\n",
        "1. Read the Iris-setosa and Iris-versicolor, sepal length and petal length\n",
        "2. Train the algorithm\n",
        "3. Plot the Logistic cost per epoch of training\n",
        "4. Plot the decision boundary using the supplied plot_decision_boundary function\n",
        "\n",
        "HINTS:\n",
        "1. In the `AdalineGD` class, the `activation` function was not used in training, as it was the same as the `net_input` function. Now, they are different, and the `activation` function has to be called on the output of the `net_input` function during training.\n",
        "2. The `predict` function needs to call the `net_input` function and the `activation` function in sequence.\n",
        "3. The sigmoid function maps the full range of real numbers to the range 0 to 1. So the threshold in the predict function needs to be adapted. The output classes should also be changed to 0 and 1 instead of -1 and +1.\n",
        "4. Use the `np.clip` function to clip the inputs to the `activation` function. E.g. clip $z$ to between -250 and +250. This stops very large numbers being input to the exponentiation function, which could lead to numerical instability.\n",
        "5. Don't forget to rename the class, as we're now dealing with Logistic Regression rather than Adaline."
      ]
    },
    {
      "cell_type": "markdown",
      "metadata": {
        "deletable": false,
        "editable": false,
        "tags": [],
        "id": "Qo9oiOGnKhxQ"
      },
      "source": [
        "### Logistic Regression Class"
      ]
    },
    {
      "cell_type": "markdown",
      "metadata": {
        "deletable": false,
        "editable": false,
        "tags": [],
        "id": "ujkcHMB_KhxQ"
      },
      "source": [
        "<span style=\"color:red\">Insert your code below</span>."
      ]
    },
    {
      "cell_type": "code",
      "execution_count": null,
      "metadata": {
        "id": "_r_3k-PqKhxQ"
      },
      "outputs": [],
      "source": [
        "################################\n",
        "# Class stub for you to fill the rest of the code\n",
        "\n",
        "class LogisticRegressionGD(object):\n",
        "    def __init__(self, eta=0.01, epochs=50):\n",
        "        self.eta = eta\n",
        "        self.epochs = epochs\n",
        "\n",
        "    def train(self, X, y):\n",
        "\n",
        "        return self\n",
        "\n",
        "    def net_input(self, X):\n",
        "        return np.dot(X, self.w_[1:]) + self.w_[0]\n",
        "\n",
        "    def activation(self, z):\n",
        "\n",
        "\n",
        "    def predict(self, X):\n",
        ""
      ]
    },
    {
      "cell_type": "code",
      "execution_count": null,
      "metadata": {
        "scrolled": true,
        "id": "6M77jtg-KhxQ"
      },
      "outputs": [],
      "source": [
        "from plot_decision_boundary import plot_decision_boundary\n",
        "\n",
        "################################\n",
        "# Your code here\n"
      ]
    },
    {
      "cell_type": "markdown",
      "metadata": {
        "deletable": false,
        "editable": false,
        "tags": [],
        "id": "L_TrOrRQKhxQ"
      },
      "source": [
        "# Task 2: Multi-class Logistic Regression with scikit-learn\n",
        "\n",
        "1. Load all of the samples from the Iris dataset, that is iris-setosa, iris-versicolor and iris-virginica. Load the petal length and petal width as the features. Assign the class labels\n",
        "    1. Iris-setosa = 0\n",
        "    2. Iris-versicolor = 1\n",
        "    3. Iris-virginica = 2\n",
        "2. Use the scikit-learn train_test_split function to split into 30% test and 70% training data\n",
        "    1. Set the stratify parameter to y. The stratify option will make sure that you get the same split of data as is in the original dataset. I.e. you will get 33% of each of the Iris types in your training and test data.\n",
        "3. Use the scikit-learn StandardScaler function to apply standard scaling to both training and test data\n",
        "    1. Plot the scaled data\n",
        "4. Train an instance of the scikitlearn LogisticRegression algorithm on the provided data\n",
        "    1. You can use all the default parameters\n",
        "5. Plot the decision boundary using the supplied plot_decision_boundary function\n",
        "6. Using sklearn's accuracy_score, calculate the accuracy score on the test data\n",
        "\n",
        "Scikit-learn's LogisticRegression class has a parameter to control the regularisation. This parameter is C is the inverse of $\\lambda$, which is described in the SVM videos. Note that the step above where the data is normalised is hugely important, as regularisation only works properly when data is normalised.\n",
        "1. Plot the decision boundary above when you set C to smaller and larger values (even 0.01 and 100)\n",
        "2. Describe what you observe with reference to what you know about regularisation from the material provided"
      ]
    },
    {
      "cell_type": "markdown",
      "metadata": {
        "deletable": false,
        "editable": false,
        "tags": [],
        "id": "EeB3Ec1eKhxQ"
      },
      "source": [
        "<span style=\"color:red\">Insert your code below</span>."
      ]
    },
    {
      "cell_type": "code",
      "execution_count": null,
      "metadata": {
        "id": "aZaqYyL3KhxQ"
      },
      "outputs": [],
      "source": [
        "from sklearn.linear_model import LogisticRegression\n",
        "\n",
        "################################\n",
        "# Your code here"
      ]
    },
    {
      "cell_type": "code",
      "execution_count": null,
      "metadata": {
        "id": "QUt-AxeaKhxR"
      },
      "outputs": [],
      "source": [
        "from plot_decision_boundary import plot_decision_boundary\n",
        "\n",
        "################################\n",
        "# Your code here"
      ]
    },
    {
      "cell_type": "markdown",
      "metadata": {
        "deletable": false,
        "editable": false,
        "tags": [],
        "id": "BAQsIJHRKhxR"
      },
      "source": [
        "<span style=\"color:red\">Insert your text answers below</span>."
      ]
    },
    {
      "cell_type": "markdown",
      "metadata": {
        "id": "D9vKMwpmKhxR"
      },
      "source": []
    },
    {
      "cell_type": "markdown",
      "metadata": {
        "deletable": false,
        "editable": false,
        "tags": [],
        "id": "QCWtJ4HCKhxR"
      },
      "source": [
        "# Task 3: Multi-class Linear SVM\n",
        "\n",
        "1. Load all of the samples from the Iris dataset, that is iris-setosa, iris-versicolor and iris-virginica. Load the petal length and petal width as the features. Assign the class labels\n",
        "    1. Iris-setosa = 0\n",
        "    2. Iris-versicolor = 1\n",
        "    3. Iris-virginica = 2\n",
        "2. Use the scikit-learn train_test_split function to split into 30% test and 70% training data\n",
        "    1. Set the stratify parameter to y. The stratify option will make sure that you get the same split of data as is in the original dataset. I.e. you will get 33% of each of the Iris types in your training and test data.\n",
        "3. Use the scikit-learn StandardScaler function to apply standard scaling to both training and test data\n",
        "    1. Print the scaled data\n",
        "4. Train an instance of the scikitlearn sklearn.svm SVC (Support Vector Classifier) algorithm on the provided data\n",
        "    1. You can use all the default parameters, except set the kernel to linear\n",
        "5. Plot the decision boundary using the supplied plot_decision_boundary function\n",
        "6. Using sklearn's accuracy_score, calculate the accuracy score on the test data"
      ]
    },
    {
      "cell_type": "markdown",
      "metadata": {
        "deletable": false,
        "editable": false,
        "tags": [],
        "id": "8-wYo3GeKhxR"
      },
      "source": [
        "<span style=\"color:red\">Insert your code below</span>."
      ]
    },
    {
      "cell_type": "code",
      "execution_count": null,
      "metadata": {
        "id": "h21JGxqnKhxR"
      },
      "outputs": [],
      "source": [
        "################################\n",
        "# Your code here"
      ]
    },
    {
      "cell_type": "markdown",
      "metadata": {
        "deletable": false,
        "editable": false,
        "tags": [],
        "id": "kg3OYXrrKhxR"
      },
      "source": [
        "# Task 4: Kernel SVM and nonlinear problems\n",
        "\n",
        "You are provided with a randomised dataset that is clearly not linearly separable, and obviously we could not separate the examples from the two classes very well using any of the linear methods - Perceptron, logistic regression or linear SVM (without kernels).\n",
        "\n",
        "1. Run an RBF (radial basis function, or Gaussian) kernel SVM model on the data\n",
        "2. Plot the decision boundaries using the provided function (choose a soft gamma value of 0.1)\n",
        "3. Change the gamma value to 100. What happens? What is the problem with this result?\n",
        "\n",
        "Then:\n",
        "* Repeat for the multi-class Iris data, to provide a multi-class, nonlinear solution\n",
        "\n",
        "Note: the gamma parameter is related to the standard deviation of the Gaussian kernel, i.e. $\\gamma = \\frac{1}{2\\sigma^2}$, or the similarity function\n",
        "\n",
        "\\begin{equation}\n",
        "\\text{similarity}(x, l^{(i)}) = \\exp\\left(-\\gamma||x - l^{(i)}||^2\\right) = \\exp\\left(\\frac{||x - l^{(i)}||^2}{2\\sigma^2}\\right)\n",
        "\\end{equation}"
      ]
    },
    {
      "cell_type": "markdown",
      "metadata": {
        "deletable": false,
        "editable": false,
        "tags": [],
        "id": "teugaOKTKhxR"
      },
      "source": [
        "### Provided generated data"
      ]
    },
    {
      "cell_type": "code",
      "execution_count": null,
      "metadata": {
        "id": "xbFL1jNwKhxR",
        "outputId": "3eec092e-3e55-4ed2-d96f-2fc705a7ff55"
      },
      "outputs": [
        {
          "data": {
            "image/png": "[encoded data removed]",
            "text/plain": [
              "<Figure size 640x480 with 1 Axes>"
            ]
          },
          "metadata": {},
          "output_type": "display_data"
        }
      ],
      "source": [
        "import numpy as np\n",
        "import matplotlib.pyplot as plt\n",
        "\n",
        "X_r = np.random.randn(400,2)\n",
        "y_r = np.where([x[0]*x[1] > 0 for x in X_r], 1, -1)\n",
        "\n",
        "plt.scatter(X_r[y_r==1, 0],X_r[y_r==1, 1],c='r',marker='o',label='+1')\n",
        "plt.scatter(X_r[y_r==-1, 0],X_r[y_r==-1, 1],c='b',marker='s',label='-1')\n",
        "plt.legend()\n",
        "plt.show()"
      ]
    },
    {
      "cell_type": "markdown",
      "metadata": {
        "deletable": false,
        "editable": false,
        "tags": [],
        "id": "GNzac8_kKhxS"
      },
      "source": [
        "<span style=\"color:red\">Insert your code below</span>."
      ]
    },
    {
      "cell_type": "code",
      "execution_count": null,
      "metadata": {
        "id": "gf6_gn0lKhxS"
      },
      "outputs": [],
      "source": [
        "################################\n",
        "# Your code here\n"
      ]
    }
  ],
  "metadata": {
    "kernelspec": {
      "display_name": "Python 3 (ipykernel)",
      "language": "python",
      "name": "python3"
    },
    "language_info": {
      "codemirror_mode": {
        "name": "ipython",
        "version": 3
      },
      "file_extension": ".py",
      "mimetype": "text/x-python",
      "name": "python",
      "nbconvert_exporter": "python",
      "pygments_lexer": "ipython3",
      "version": "3.9.13"
    },
    "colab": {
      "provenance": [],
      "include_colab_link": true
    }
  },
  "nbformat": 4,
  "nbformat_minor": 0
}