{
  "cells": [
    {
      "cell_type": "markdown",
      "metadata": {
        "id": "view-in-github",
        "colab_type": "text"
      },
      "source": [
        "<a href=\"https://colab.research.google.com/github/muditsatija08/data-engineering/blob/main/Activity6_23256087.ipynb\" target=\"_parent\"><img src=\"https://colab.research.google.com/assets/colab-badge.svg\" alt=\"Open In Colab\"/></a>"
      ]
    },
    {
      "cell_type": "markdown",
      "metadata": {
        "id": "N9Lka07Q_kn7"
      },
      "source": [
        "Student Name: Mudit Satija\n",
        "\n",
        "Student ID: 23256087"
      ]
    },
    {
      "cell_type": "markdown",
      "metadata": {
        "id": "AoBQawM87zCF"
      },
      "source": [
        "# Activity 6: Pytorch and CNNs for Fashion-MNIST\n",
        "\n",
        "In this activity, we are going to explore designing various neural networks for the FashionMNIST classification problem. This is, of course, a 'toy' problem, but the fundamentals of classification of images is here.\n"
      ]
    },
    {
      "cell_type": "markdown",
      "metadata": {
        "id": "qJMUe370Urpw"
      },
      "source": [
        "## Hints, tips, and notes\n",
        "\n",
        "* Here I'm not going to mandate TensorBoard. In Colab, this is a little bit more involved. Instead, we'll just put the losses and accuracies in a list and print them after training. However, TensorBoard is very useful, particularly for projects, so I suggest playing around with it.\n",
        "* Some of these runs will take several minutes to complete. This is the nature of ML. Grab a beer, or a coffee.\n",
        "\n",
        "As usual, we will give you some code that you use to build the rest of the activity."
      ]
    },
    {
      "cell_type": "markdown",
      "metadata": {
        "id": "dpoJ__36N-EB"
      },
      "source": [
        "# Common Code"
      ]
    },
    {
      "cell_type": "code",
      "execution_count": null,
      "metadata": {
        "id": "65vikJh5QzSv"
      },
      "outputs": [],
      "source": []
    },
    {
      "cell_type": "markdown",
      "metadata": {
        "id": "Vtz0RJ2ry0sx"
      },
      "source": [
        "All the imports"
      ]
    },
    {
      "cell_type": "code",
      "execution_count": null,
      "metadata": {
        "id": "4ZR6UI_p6r8V",
        "outputId": "8a56b076-fa8f-409c-8bee-4f3fc2983ab4"
      },
      "outputs": [
        {
          "ename": "ModuleNotFoundError",
          "evalue": "No module named 'torch'",
          "output_type": "error",
          "traceback": [
            "\u001b[1;31m---------------------------------------------------------------------------\u001b[0m",
            "\u001b[1;31mModuleNotFoundError\u001b[0m                       Traceback (most recent call last)",
            "\u001b[1;32mc:\\Users\\mudit\\Downloads\\Activity6_IDNumber.ipynb Cell 6\u001b[0m line \u001b[0;36m1\n\u001b[1;32m----> <a href='vscode-notebook-cell:/c%3A/Users/mudit/Downloads/Activity6_IDNumber.ipynb#W5sZmlsZQ%3D%3D?line=0'>1</a>\u001b[0m \u001b[39mimport\u001b[39;00m \u001b[39mtorch\u001b[39;00m\n\u001b[0;32m      <a href='vscode-notebook-cell:/c%3A/Users/mudit/Downloads/Activity6_IDNumber.ipynb#W5sZmlsZQ%3D%3D?line=1'>2</a>\u001b[0m \u001b[39mfrom\u001b[39;00m \u001b[39mtorch\u001b[39;00m \u001b[39mimport\u001b[39;00m nn\n\u001b[0;32m      <a href='vscode-notebook-cell:/c%3A/Users/mudit/Downloads/Activity6_IDNumber.ipynb#W5sZmlsZQ%3D%3D?line=2'>3</a>\u001b[0m \u001b[39mfrom\u001b[39;00m \u001b[39mtorch\u001b[39;00m\u001b[39m.\u001b[39;00m\u001b[39mutils\u001b[39;00m\u001b[39m.\u001b[39;00m\u001b[39mdata\u001b[39;00m \u001b[39mimport\u001b[39;00m DataLoader, TensorDataset\n",
            "\u001b[1;31mModuleNotFoundError\u001b[0m: No module named 'torch'"
          ]
        }
      ],
      "source": [
        "import torch\n",
        "from torch import nn\n",
        "from torch.utils.data import DataLoader, TensorDataset\n",
        "from torchvision import datasets\n",
        "from torchvision.transforms import ToTensor, Normalize, transforms\n",
        "from torchsummary import summary\n",
        "import matplotlib.pyplot as plt\n",
        "from torchvision import models"
      ]
    },
    {
      "cell_type": "markdown",
      "metadata": {
        "id": "kei7bP_zLk__"
      },
      "source": [
        "### 1. Select the device to use.\n",
        "\n",
        "To access the GPU on Google Colab, `Select Runtime` -> `Change Runtime Type` and pick `GPU` from the `Hardware Accelerator` dropdown menu. In the free version, the GPU is modest. If you buy credits, you get access to a much nice A100 GPU. In both cases, you may find contention for the resource is an issue, but less likely to happen if you use credits."
      ]
    },
    {
      "cell_type": "code",
      "execution_count": null,
      "metadata": {
        "id": "KGZZVd87LoA2"
      },
      "outputs": [],
      "source": [
        "# Get appropriate device for training\n",
        "device = ( \"cuda\"     # CUDA is a programming interface for certain Nvidia GPUs\n",
        "           if torch.cuda.is_available()\n",
        "           else \"mps\"  # Kind of like CUDA for a mac, I guess? I don't use macs\n",
        "           if torch.backends.mps.is_available()\n",
        "           else \"cpu\" )   # If you end up with CPU, go use Google Colab and get a GPU\n",
        "\n",
        "print(f\"{device} device available\")"
      ]
    },
    {
      "cell_type": "markdown",
      "metadata": {
        "id": "UvvkbCuVQGW-"
      },
      "source": [
        "### 2. Code for training the models\n",
        "\n",
        "I'm going to provide this code, rather than you having to struggle creating it. This is a normal training cycle with PyTorch. However, I do want you to explain the PyTorch functions called in the train function. I will marke them with comments."
      ]
    },
    {
      "cell_type": "code",
      "execution_count": null,
      "metadata": {
        "id": "T-m4iPTwQFmP"
      },
      "outputs": [],
      "source": [
        "def train(dataloader, model, loss_fn, optimizer):\n",
        "    size = len(dataloader.dataset)\n",
        "    model.train()        #<--- what is this function for?\n",
        "\n",
        "    for batch, (X, y) in enumerate(dataloader):\n",
        "        X, y = X.to(device), y.to(device)   #<--- this is a bit funny, explain it\n",
        "\n",
        "        # Compute prediction error\n",
        "        pred = model(X)                     #<--- what is this for?\n",
        "        loss = loss_fn(pred, y)             #<--- what is this for?\n",
        "\n",
        "        # This is the backprop set up. Explain what each of the steps do\n",
        "        loss.backward()                     #<--- what is this for?\n",
        "        optimizer.step()                    #<--- what is this for?\n",
        "        optimizer.zero_grad()               #<--- what is this for?\n",
        "\n",
        "        if batch % 100 == 0:\n",
        "            loss, current = loss.item(), (batch + 1) * len(X)\n",
        "            print(f\"loss: {loss:>7f}  [{current:>5d}/{size:>5d}]\")\n",
        "\n",
        "def test(dataloader, model, loss_fn):\n",
        "    size = len(dataloader.dataset)\n",
        "    num_batches = len(dataloader)\n",
        "    model.eval()\n",
        "    loss, accuracy = 0, 0\n",
        "    with torch.no_grad():\n",
        "        for X, y in dataloader:\n",
        "            X, y = X.to(device), y.to(device)\n",
        "            pred = model(X)\n",
        "            loss += loss_fn(pred, y).item()\n",
        "            accuracy += (pred.argmax(1) == y).type(torch.float).sum().item()\n",
        "    loss /= num_batches\n",
        "    accuracy /= size\n",
        "\n",
        "    return loss, accuracy\n",
        "\n",
        "def train_loop(train_dataloader, test_dataloader, model, loss_fn, optimizer, epochs):\n",
        "    train_loss = []\n",
        "    train_accuracy = []\n",
        "    test_loss = []\n",
        "    test_accuracy = []\n",
        "\n",
        "    # Iterate over each epoch\n",
        "    for t in range(epochs):\n",
        "        print(f\"Epoch {t+1}:\\n\")\n",
        "        train(train_dataloader, model, loss_fn, optimizer)\n",
        "\n",
        "        # Get the overall loss and accuracy for both train and test datasets\n",
        "        tr_loss, tr_acc = test(train_dataloader, model, loss_fn)\n",
        "        ts_loss, ts_acc = test(test_dataloader, model, loss_fn)\n",
        "\n",
        "        print(f\"Train Error: \\n Accuracy: {(100*tr_acc):>0.1f}%, Avg loss: {tr_loss:>8f} \\n\")\n",
        "        print(f\"Test Error: \\n Accuracy: {(100*ts_acc):>0.1f}%, Avg loss: {ts_loss:>8f} \\n\")\n",
        "\n",
        "        # Store and return the losses and accuracies. We can graph these later\n",
        "        train_loss = train_loss + [tr_loss]\n",
        "        train_accuracy = train_accuracy + [tr_acc]\n",
        "        test_loss = test_loss + [ts_loss]\n",
        "        test_accuracy = test_accuracy + [ts_acc]\n",
        "\n",
        "    print(\"Done training!\")\n",
        "    return train_loss, train_accuracy, test_loss, test_accuracy\n",
        "\n"
      ]
    },
    {
      "cell_type": "markdown",
      "metadata": {
        "id": "l0gxSq0GA7pZ"
      },
      "source": [
        "### <font color='red'>Your input here.</font>\n",
        "<font color='red'>Enter you description of the above parts:</font>"
      ]
    },
    {
      "cell_type": "markdown",
      "metadata": {
        "id": "48vVpAAvO-p4"
      },
      "source": []
    },
    {
      "cell_type": "markdown",
      "metadata": {
        "id": "eUVkSGMIDP9L"
      },
      "source": [
        "### 3. Load the data\n",
        "\n",
        "1. Load the Fashion-MNIST dataset using `torchvision`'s `datasets` library (e.g., [`datasets.FashionMNIST...`](https://pytorch.org/vision/stable/generated/torchvision.datasets.FashionMNIST.html)...)\n",
        "2. When loading the data, convert it to tensor format ([`transforms.ToTensor`](https://pytorch.org/vision/stable/generated/torchvision.transforms.ToTensor.html)), and apply the standard scaler to the data (using [`transforms.Normalize`](https://pytorch.org/vision/main/generated/torchvision.transforms.Normalize.html)). Use the [`transforms.Resize`](https://pytorch.org/vision/main/generated/torchvision.transforms.Resize.html) transform to turn it into a 28x28 image rather than a 784-vector\n",
        "    * Rather than loading the data, and caluclating the mean and std, you can use the values `mean = 0.2859` and `std = 0.3530`. I pre-calculated these for you!\n",
        "3. Create the [`DataLoader`](https://pytorch.org/docs/stable/data.html#torch.utils.data.DataLoader)s. Here we're going to use a batch size of 64.\n",
        "4. Display a few examples of the dataset - this is always a good idea to make sure the data has loaded correctly\n",
        "\n",
        "We haven't really touched on batch size yet, because up to now we have used plain old gradient descent. Later on, we will use the Adam optimiser, because it is quicker and uses less memory. But Adam is a mini-batch optimizer, and you have to pick that mini-batch size. Bit more info on this, if you are interested:\n",
        " * https://sebastianraschka.com/faq/docs/gradient-optimization.html\n",
        " * https://machinelearningmastery.com/adam-optimization-algorithm-for-deep-learning/\n",
        "\n",
        "We need to set the batch size when we create the dataloaders."
      ]
    },
    {
      "cell_type": "markdown",
      "metadata": {
        "id": "vKu2eDhgSICn"
      },
      "source": [
        "### <font color='red'>Your code here.</font>\n",
        "<font color='red'>Enter your code in the cell(s) below:</font>"
      ]
    },
    {
      "cell_type": "code",
      "execution_count": null,
      "metadata": {
        "id": "UflqiXhm_0FT"
      },
      "outputs": [],
      "source": [
        "##############################\n",
        "# Your code below\n",
        "\n"
      ]
    },
    {
      "cell_type": "markdown",
      "metadata": {
        "id": "e0jotOTekgo6"
      },
      "source": [
        "\n",
        "---\n",
        "## 1. Replicate the Neural Network from the previous tasks for the FashionMNIST dataset\n",
        "---\n",
        "\n",
        "\n",
        "In the previous activity, you designed a fully connected neural network (a multi-layer perceptron) to predict on Fashion-MNIST.\n",
        "\n",
        "1. Replicate the best network that you found in that activity, but in PyTorch.\n",
        "1. Use [`summary`](https://pypi.org/project/torch-summary/) to display a summary of your model.\n",
        "1. Use some random inputs to test the model. This will be meaningless, as the model is not trained yet (and the inputs are random). However, it is useful to test that you have defined the model at leats without any coding errors.\n",
        "\n",
        "Hints and notes:\n",
        " * We need to [`Flatten`](https://pytorch.org/docs/stable/generated/torch.nn.Flatten.html) the incoming data. In the previous step, you loaded the dataset as a 28x28 image (because, later on we will be using CNNs that require image inputs). However, fully connected layers require vector inputs. `nn.Flatten` converts the image input to a vector (i.e., a 28x28 image to a 784 vector).\n",
        " * Use [`.to(device)`](https://pytorch.org/docs/stable/generated/torch.Tensor.to.html) to \"send\" objects to the GPU (if you have one). E.g., once you define your class for the neural network, you will create an instance of that NN - you need to send this object to the GPU.\n",
        " * Generally, at inference time, we will use a [`softmax`](https://pytorch.org/docs/stable/generated/torch.nn.Softmax.html) on the output of the model. Prior to the softmax, the model outputs a score per class. That is, there will be 10 outputs. However, here we will ignore the softmax part.\n"
      ]
    },
    {
      "cell_type": "markdown",
      "metadata": {
        "id": "k6wLKjnqwwuJ"
      },
      "source": [
        "### <font color='red'>Your code here.</font>\n",
        "<font color='red'>Enter your code in the cell(s) below:</font>"
      ]
    },
    {
      "cell_type": "code",
      "execution_count": null,
      "metadata": {
        "id": "WW2k5sLpRMVW"
      },
      "outputs": [],
      "source": [
        "##############################\n",
        "# Your code below\n",
        "\n",
        "# Define model\n",
        "class NeuralNetwork(nn.Module):\n",
        "    def __init__(self):\n",
        "        ...\n",
        "\n",
        "    def forward(self, x):\n",
        "        ...\n",
        "\n",
        "...\n",
        "\n",
        "summary(model, (1,28*28))\n"
      ]
    },
    {
      "cell_type": "markdown",
      "metadata": {
        "id": "4IhCJJpnwB1u"
      },
      "source": [
        "Now train the model.\n",
        "\n",
        "We will use [Cross Entropy Loss](https://towardsdatascience.com/cross-entropy-loss-function-f38c4ec8643e), and as discussed, the Adam optimiser (with learning rate = 0.001).\n",
        "\n",
        "* Call the training loop - I would suggest a max of ~20 epochs\n",
        "* Use matplotlib to plot the train and test loss, and the train and test accuracy\n",
        "* Describe what you see in the graphs\n",
        "\n",
        "This training could take a few minutes. But note how you will see a bunch of losses reported in each epoch? These are the mini-batches in Adam that we discussed before. Then there will be an overall Train and Test error reported for the Epoch."
      ]
    },
    {
      "cell_type": "markdown",
      "metadata": {
        "id": "oKBvh401xGsu"
      },
      "source": [
        "### <font color='red'>Your code here.</font>\n",
        "<font color='red'>Enter your code in the cell(s) below:</font>"
      ]
    },
    {
      "cell_type": "code",
      "execution_count": null,
      "metadata": {
        "id": "TARVcnPbCagE"
      },
      "outputs": [],
      "source": [
        "# Define the loss function and the optimizer\n",
        "loss_fn = nn.CrossEntropyLoss()\n",
        "optimizer = torch.optim.Adam(model.parameters(), lr=1e-3)\n",
        "# Note, replace model with the instance name of your model\n",
        "\n",
        "##############################\n",
        "# Your code below\n",
        "\n",
        "..."
      ]
    },
    {
      "cell_type": "code",
      "execution_count": null,
      "metadata": {
        "id": "0IcqyKg1KoN7"
      },
      "outputs": [],
      "source": [
        "..."
      ]
    },
    {
      "cell_type": "markdown",
      "metadata": {
        "id": "bfCf0aKQCI49"
      },
      "source": [
        "\n",
        "---\n",
        "\n",
        "# 2. Replicate LeNet-5 for Fashion-MNIST\n",
        "\n",
        "---\n",
        "\n",
        "\n",
        "Below is the LeNet architecture (from https://en.wikipedia.org/wiki/LeNet). If you search on the internet, you will find slightly different implementations and descriptions of LeNet-5, but below is what was actually in LeCun's [original paper](https://ieeexplore.ieee.org/document/726791). Of course, LeCun was applying this to the digit recognition problem (MNIST), but we are looking at Fashion-MNIST.\n",
        "\n",
        " * Create the model in PyTorch.\n",
        " * Train the model using the same parameters as above, and plot the loss and accuracy.\n",
        " * Discuss and compare (in a markdown cell) with the fully connected model above. Particularly consider - number of parameters, performance, and overfitting?"
      ]
    },
    {
      "cell_type": "markdown",
      "metadata": {
        "id": "AFSmj6RFJTh7"
      },
      "source": [
        "![image.png](data:image/png;base64,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)"
      ]
    },
    {
      "cell_type": "markdown",
      "metadata": {
        "id": "_5TUDK6qyToJ"
      },
      "source": [
        "### <font color='red'>Your code here.</font>\n",
        "<font color='red'>Enter your code in the cell(s) below:</font>"
      ]
    },
    {
      "cell_type": "code",
      "execution_count": null,
      "metadata": {
        "id": "2p_jaGl2SDo3"
      },
      "outputs": [],
      "source": [
        "##############################\n",
        "# Your code below\n",
        "\n",
        "..."
      ]
    },
    {
      "cell_type": "code",
      "execution_count": null,
      "metadata": {
        "id": "23FdAwRnyMnZ"
      },
      "outputs": [],
      "source": [
        "..."
      ]
    },
    {
      "cell_type": "code",
      "execution_count": null,
      "metadata": {
        "id": "iWFTp1NuzMI-"
      },
      "outputs": [],
      "source": [
        "..."
      ]
    },
    {
      "cell_type": "markdown",
      "metadata": {
        "id": "gRCAjS03zwOx"
      },
      "source": [
        "### <font color='red'>Your text here.</font>\n",
        "<font color='red'>Enter your text descriptions in the cell below:</font>"
      ]
    },
    {
      "cell_type": "markdown",
      "metadata": {
        "id": "_Z42CU7Sz2ni"
      },
      "source": []
    },
    {
      "cell_type": "markdown",
      "metadata": {
        "id": "SpZEk_E8zNKp"
      },
      "source": [
        "---\n",
        "# 3. Modernise LeNet\n",
        "---\n",
        "\n",
        "\n",
        "Modernise LeNet. What are the preferred activation and pooling functions for modern CNNs?\n",
        "\n",
        "* Update LeNet with these newer functions.\n",
        "* Train using the same parameters as above.\n",
        "* Compare and discuss with the above using the normal discussion criteria\n"
      ]
    },
    {
      "cell_type": "markdown",
      "metadata": {
        "id": "pQHnH0_p0PJQ"
      },
      "source": [
        "### <font color='red'>Your code here.</font>\n",
        "<font color='red'>Enter your code in the cell(s) below:</font>"
      ]
    },
    {
      "cell_type": "code",
      "execution_count": null,
      "metadata": {
        "id": "6CTC_9l9N2Mb"
      },
      "outputs": [],
      "source": [
        "##############################\n",
        "# Your code below\n",
        "\n",
        "..."
      ]
    },
    {
      "cell_type": "code",
      "execution_count": null,
      "metadata": {
        "id": "0q0_HgWk07Rm"
      },
      "outputs": [],
      "source": [
        "..."
      ]
    },
    {
      "cell_type": "code",
      "execution_count": null,
      "metadata": {
        "id": "Z3lz6sR00-Cb"
      },
      "outputs": [],
      "source": [
        "..."
      ]
    },
    {
      "cell_type": "markdown",
      "metadata": {
        "id": "hJ-BQWurwbRI"
      },
      "source": [
        "### <font color='red'>Your text here.</font>\n",
        "<font color='red'>Enter your text descriptions in the cell below:</font>"
      ]
    },
    {
      "cell_type": "markdown",
      "metadata": {
        "id": "6HPja9L2we3M"
      },
      "source": []
    },
    {
      "cell_type": "markdown",
      "metadata": {
        "id": "7NrUW_6YSTA_"
      },
      "source": [
        "---\n",
        "# 4. Build your own CNN model\n",
        "---\n",
        "\n",
        "Build your own classifier model - see can you break 90% accuracy. You can use LeNet as a basis if you like.\n",
        "\n",
        "With some networks I built, I could get 93 to 94% test accuracy.\n",
        "\n",
        "Some hints:\n",
        " * not every convolutional layer needs a pooling layer afterwards\n",
        " * Consider adding more layers (maybe more 3x3 layers is better than 1 5x5 layer?)\n",
        " * But don't just bung loads of layers in there - you will end up overfitting badly\n",
        " * Use a [batchnorm](https://towardsdatascience.com/batch-norm-explained-visually-how-it-works-and-why-neural-networks-need-it-b18919692739) after each convolutional layer. You get decent performance gains without adding many parameters\n",
        " * Don't be afraid to get to a million or two parameters\n",
        " * Have a look on Google to see what others are doing (you're going to do this anyway, right?). Don't just copy them, though, try to understand.\n",
        "\n",
        "Explain what you did that improved things for the classification and why they improved things."
      ]
    },
    {
      "cell_type": "markdown",
      "metadata": {
        "id": "kaxbzvLx2o1a"
      },
      "source": [
        "### <font color='red'>Your code here.</font>\n",
        "<font color='red'>Enter your code in the cell(s) below:</font>"
      ]
    },
    {
      "cell_type": "code",
      "execution_count": null,
      "metadata": {
        "id": "e3TD8T18P9vM"
      },
      "outputs": [],
      "source": [
        "..."
      ]
    },
    {
      "cell_type": "code",
      "execution_count": null,
      "metadata": {
        "id": "AVKgkc002ZAd"
      },
      "outputs": [],
      "source": [
        "..."
      ]
    },
    {
      "cell_type": "code",
      "execution_count": null,
      "metadata": {
        "id": "fqUbLZIR2Zrz"
      },
      "outputs": [],
      "source": [
        "..."
      ]
    },
    {
      "cell_type": "markdown",
      "metadata": {
        "id": "Y6IC-9Fc2qsw"
      },
      "source": [
        "### <font color='red'>Your text here.</font>\n",
        "<font color='red'>Enter your text descriptions in the cell below:</font>"
      ]
    },
    {
      "cell_type": "markdown",
      "metadata": {
        "id": "eL_2EKIc2qwA"
      },
      "source": []
    },
    {
      "cell_type": "markdown",
      "metadata": {
        "id": "lPw98Llzd9EU"
      },
      "source": [
        "---\n",
        "# 5. Transfer Learning\n",
        "---\n",
        "\n",
        "Nobody trains large models from scratch. Rather, they use large pretrained models, that have been trained perhaps for weeks on very large datasets. Then, we can tweak the model for our needs. This allows us to use large models on small datasets and (hopefully) avoid some overfitting.\n",
        "\n",
        "We are going to load ResNet18, we're going to cut the head off it - in this case, we will replace the very last layer. ResNet18 was trained for 1000 classes, we only have 10.\n",
        "\n",
        "Do the following:\n",
        "1. From `torchvision.models`, load [`ResNet18`](https://pytorch.org/vision/main/models/generated/torchvision.models.resnet18.html), and use random weights (`weights=None`). Replace the full-connected layer at the end with your own fully connect layer. Train and plot the loss and accuracy.\n",
        "1. Repeat step 1, but use the default paramaters, and retrain. In this case, the default parameters.\n",
        "1. Freeze all but the last layer of your adapted ResNet model, and retrain.\n",
        "1. Provide some commentary on the three approaches. Particularly, what's the difference between all three approaches we outlined here?\n",
        "\n",
        "For the freezing of layers, the following article is useful:\n",
        "https://jimmy-shen.medium.com/pytorch-freeze-part-of-the-layers-4554105e03a6\n",
        "\n",
        "In step 3 above, we may see that the network doesn't necessarily perform as well as previous networks, in terms of test accuracy. Probably we should unfreeze more of the later layers to allow better fine-tuning of the network to our problem. And there are more complicated and powerful finetuning strategies out there. But you should see that overfitting is, more or less, solved. This is because we are only training a much smaller number of parameters, and freezing all of the convolution layers in the ResNet.\n"
      ]
    },
    {
      "cell_type": "code",
      "execution_count": null,
      "metadata": {
        "id": "62eNFG9M62s_"
      },
      "outputs": [],
      "source": [
        "# We need to recreate the dataloaders, because ResNet expects a three channel\n",
        "# RGB input, whereas FashionMNIST only has 1 channel (greyscale). Use\n",
        "# `transforms.Grayscale(3)` to replicated the grayscale image into the three\n",
        "# channels.\n",
        "\n",
        "# Download training data from open datasets.\n",
        "training_data = datasets.FashionMNIST(\n",
        "    root=\"data\",\n",
        "    train=True,\n",
        "    download=True,\n",
        "    transform=transforms.Compose([\n",
        "        transforms.Resize((28,28)),\n",
        "        transforms.Grayscale(3),\n",
        "        transforms.ToTensor(),\n",
        "        transforms.Normalize(mean = 0.2859, std = 0.3530),\n",
        "    ])\n",
        ")\n",
        "\n",
        "# Download test data from open datasets.\n",
        "test_data = datasets.FashionMNIST(\n",
        "    root=\"data\",\n",
        "    train=False,\n",
        "    download=True,\n",
        "    transform=transforms.Compose([\n",
        "        transforms.Resize((28,28)),\n",
        "        transforms.Grayscale(3),\n",
        "        transforms.ToTensor(),\n",
        "        transforms.Normalize(mean = 0.2859, std = 0.3530),\n",
        "    ])\n",
        ")\n",
        "\n",
        "batch_size = 64\n",
        "# Recreate the data loaders.\n",
        "train_dataloader = torch.utils.data.DataLoader(training_data, batch_size=batch_size)\n",
        "test_dataloader = torch.utils.data.DataLoader(test_data, batch_size=batch_size)\n",
        "\n",
        "for X, y in test_dataloader:\n",
        "    print(f\"Shape of X [N, C, H, W]: {X.shape}\")\n",
        "    print(f\"Shape of y: {y.shape} {y.dtype}\")\n",
        "    break"
      ]
    },
    {
      "cell_type": "markdown",
      "metadata": {
        "id": "SeQJ1rTY88fO"
      },
      "source": [
        "### <font color='red'>Your code here.</font>\n",
        "<font color='red'>Enter your code in the cell(s) below:</font>"
      ]
    },
    {
      "cell_type": "code",
      "execution_count": null,
      "metadata": {
        "id": "34nFF9VinBoW"
      },
      "outputs": [],
      "source": [
        "##############################\n",
        "# Your code below\n",
        "\n",
        "..."
      ]
    },
    {
      "cell_type": "code",
      "execution_count": null,
      "metadata": {
        "id": "lJXFNCyqtVse"
      },
      "outputs": [],
      "source": [
        "# Define the loss function and the optimizer\n",
        "loss_fn = nn.CrossEntropyLoss()\n",
        "optimizer = torch.optim.Adam(model.parameters(), lr=1e-3)\n",
        "# Note, replace model with the instance name of your model\n",
        "\n",
        "##############################\n",
        "# Your code below\n",
        "\n",
        "..."
      ]
    },
    {
      "cell_type": "code",
      "execution_count": null,
      "metadata": {
        "id": "3Xk1SvYQl12c"
      },
      "outputs": [],
      "source": [
        "##############################\n",
        "# Your code below\n",
        "\n",
        "..."
      ]
    },
    {
      "cell_type": "code",
      "execution_count": null,
      "metadata": {
        "id": "tgx0nj_E00ce"
      },
      "outputs": [],
      "source": [
        "# Define the loss function and the optimizer\n",
        "\n",
        "..."
      ]
    },
    {
      "cell_type": "code",
      "execution_count": null,
      "metadata": {
        "id": "nxf4PrgL1AX7"
      },
      "outputs": [],
      "source": [
        "##############################\n",
        "# Your code below\n",
        "\n",
        "..."
      ]
    },
    {
      "cell_type": "code",
      "execution_count": null,
      "metadata": {
        "id": "JSh0jhdgNc9o"
      },
      "outputs": [],
      "source": [
        "# Define the loss function and the optimizer\n",
        "\n",
        "..."
      ]
    },
    {
      "cell_type": "markdown",
      "metadata": {
        "id": "T6G51bVBzm3A"
      },
      "source": [
        "### <font color='red'>Your text here.</font>\n",
        "<font color='red'>Enter your text descriptions in the cell below:</font>"
      ]
    },
    {
      "cell_type": "markdown",
      "metadata": {
        "id": "ZxYWtZc9zocN"
      },
      "source": []
    }
  ],
  "metadata": {
    "accelerator": "GPU",
    "colab": {
      "provenance": [],
      "include_colab_link": true
    },
    "kernelspec": {
      "display_name": "Python 3",
      "name": "python3"
    },
    "language_info": {
      "codemirror_mode": {
        "name": "ipython",
        "version": 3
      },
      "file_extension": ".py",
      "mimetype": "text/x-python",
      "name": "python",
      "nbconvert_exporter": "python",
      "pygments_lexer": "ipython3",
      "version": "3.11.4"
    }
  },
  "nbformat": 4,
  "nbformat_minor": 0
}